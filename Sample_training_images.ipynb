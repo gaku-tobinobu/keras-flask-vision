{
 "cells": [
  {
   "cell_type": "markdown",
   "metadata": {},
   "source": [
    "# Get Sample Data from Avito Kaggle Competition"
   ]
  },
  {
   "cell_type": "code",
   "execution_count": 1,
   "metadata": {},
   "outputs": [],
   "source": [
    "import pandas as pd\n",
    "import numpy as np\n",
    "import os"
   ]
  },
  {
   "cell_type": "code",
   "execution_count": 11,
   "metadata": {},
   "outputs": [],
   "source": [
    "jpgs = os.listdir('train_jpg_2')\n",
    "jpgs = [x[:-4] for x in jpgs]"
   ]
  },
  {
   "cell_type": "code",
   "execution_count": 8,
   "metadata": {},
   "outputs": [],
   "source": [
    "train = pd.read_csv('train.csv')"
   ]
  },
  {
   "cell_type": "markdown",
   "metadata": {},
   "source": [
    "Below, I use \"часы\" (Watch for Russian) to separate watch vs non-watch images"
   ]
  },
  {
   "cell_type": "code",
   "execution_count": 111,
   "metadata": {},
   "outputs": [],
   "source": [
    "train = train[(~train.param_1.isna()) & (~train.image.isna()) & (train.image.isin(jpgs))]\n",
    "watch_files = train[train.param_1.apply(lambda x: 'часы' in x.lower())].image\n",
    "watch_files = np.random.choice(watch_files,120)\n",
    "watch_files = [x+'.jpg' for x in watch_files]\n",
    "non_watch_files = train[~train.param_1.apply(lambda x: 'часы' in x.lower())].image\n",
    "non_watch_files = np.random.choice(non_watch_files, 240)\n",
    "non_watch_files = [x+'.jpg' for x in non_watch_files]"
   ]
  },
  {
   "cell_type": "code",
   "execution_count": 100,
   "metadata": {},
   "outputs": [],
   "source": [
    "# !mkdir repo/clock_image/labels/train\n",
    "# !mkdir repo/clock_image/labels/train/watch\n",
    "# !mkdir repo/clock_image/labels/train/notwatch\n",
    "\n",
    "# !mkdir repo/clock_image/labels/test\n",
    "# !mkdir repo/clock_image/labels/test/watch\n",
    "# !mkdir repo/clock_image/labels/test/notwatch"
   ]
  },
  {
   "cell_type": "code",
   "execution_count": 117,
   "metadata": {},
   "outputs": [],
   "source": [
    "# Copying images of watch files and non-watch files in the desired locations\n",
    "from shutil import copyfile\n",
    "src_dir = 'Downloads/train_jpg_2/'\n",
    "\n",
    "dst_dir = 'repo/clock_image/labels/train/watch/'\n",
    "for f in watch_files[:100]:\n",
    "    copyfile(src_dir+f, dst_dir+f)\n",
    "\n",
    "dst_dir = 'repo/clock_image/labels/test/watch/'\n",
    "for f in watch_files[100:]:\n",
    "    copyfile(src_dir+f, dst_dir+f)\n",
    "    \n",
    "dst_dir = 'repo/clock_image/labels/train/notwatch/'\n",
    "for f in non_watch_files[:200]:\n",
    "    copyfile(src_dir+f, dst_dir+f)\n",
    "    \n",
    "dst_dir = 'repo/clock_image/labels/test/notwatch/'\n",
    "for f in non_watch_files[200:]:\n",
    "    copyfile(src_dir+f, dst_dir+f)"
   ]
  },
  {
   "cell_type": "code",
   "execution_count": null,
   "metadata": {},
   "outputs": [],
   "source": []
  }
 ],
 "metadata": {
  "kernelspec": {
   "display_name": "Python 3",
   "language": "python",
   "name": "python3"
  },
  "language_info": {
   "codemirror_mode": {
    "name": "ipython",
    "version": 3
   },
   "file_extension": ".py",
   "mimetype": "text/x-python",
   "name": "python",
   "nbconvert_exporter": "python",
   "pygments_lexer": "ipython3",
   "version": "3.6.4"
  }
 },
 "nbformat": 4,
 "nbformat_minor": 2
}
